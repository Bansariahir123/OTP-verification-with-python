{
  "cells": [
    {
      "cell_type": "markdown",
      "metadata": {
        "id": "view-in-github",
        "colab_type": "text"
      },
      "source": [
        "<a href=\"https://colab.research.google.com/github/Bansariahir123/OTP-verification-with-python/blob/main/Untitled44.ipynb\" target=\"_parent\"><img src=\"https://colab.research.google.com/assets/colab-badge.svg\" alt=\"Open In Colab\"/></a>"
      ]
    },
    {
      "cell_type": "code",
      "source": [
        "!pip install pyotp"
      ],
      "metadata": {
        "colab": {
          "base_uri": "https://localhost:8080/"
        },
        "id": "9LbfF37Pwwcs",
        "outputId": "fb9622a7-ab17-43b5-f0d1-31a6ae7fcecc"
      },
      "execution_count": 52,
      "outputs": [
        {
          "output_type": "stream",
          "name": "stdout",
          "text": [
            "Requirement already satisfied: pyotp in /usr/local/lib/python3.10/dist-packages (2.9.0)\n"
          ]
        }
      ]
    },
    {
      "cell_type": "code",
      "source": [
        "import pyotp\n",
        "import smtplib\n",
        "from email.mime.text import MIMEText\n",
        "\n",
        "# Generate and send OTP to the user's email\n",
        "def generate_and_send_otp(email):\n",
        "    secret_key = pyotp.random_base32()\n",
        "    totp = pyotp.TOTP(secret_key)\n",
        "    otp = totp.now()\n",
        "\n",
        "    # Create an email message\n",
        "    msg = MIMEText(f\"Your OTP is: {otp}\")\n",
        "    msg[\"From\"] = \"youremail@gmail.com\"  # Your email address\n",
        "    msg[\"To\"] = email\n",
        "    msg[\"Subject\"] = \"OTP Verification\"\n",
        "\n",
        "    # Connect to your SMTP server and send the email\n",
        "    server = smtplib.SMTP(\"smtp.gmail.com\", 587)  # Example using Gmail SMTP\n",
        "    server.starttls()\n",
        "    server.login(\"youremail@gmail.com\", \"password\")  # Your email and password\n",
        "\n",
        "    server.sendmail(\"youremail@gmail.com\", email, msg.as_string())\n",
        "    server.quit()\n",
        "\n",
        "    print(\"OTP sent to your email.\")\n",
        "    return secret_key, otp\n",
        "\n",
        "# Verify the OTP entered by the user\n",
        "def verify_otp(secret_key, user_input):\n",
        "    totp = pyotp.TOTP(secret_key)\n",
        "\n",
        "    # Verify the user input\n",
        "    if totp.verify(user_input):\n",
        "        print(\"OTP Verified successfully.\")\n",
        "    else:\n",
        "        print(\"OTP Verification failed.\")\n",
        "\n",
        "if __name__ == \"__main__\":\n",
        "    email = input(\"Enter your email: \")\n",
        "    secret_key, sent_otp = generate_and_send_otp(email)\n",
        "    user_input = input(\"Enter OTP from your email: \")\n",
        "\n",
        "    # Verify the OTP\n",
        "    verify_otp(secret_key, user_input)\n"
      ],
      "metadata": {
        "colab": {
          "base_uri": "https://localhost:8080/"
        },
        "id": "r1iYJz4MbGH6",
        "outputId": "0b3a3339-f173-454d-fe66-a07a97496dd1"
      },
      "execution_count": 51,
      "outputs": [
        {
          "output_type": "stream",
          "name": "stdout",
          "text": [
            "Enter your email: youremail@gmail.com\n",
            "OTP sent to your email.\n",
            "Enter OTP from your email: 821998\n",
            "OTP Verified successfully.\n"
          ]
        }
      ]
    }
  ],
  "metadata": {
    "colab": {
      "provenance": [],
      "authorship_tag": "ABX9TyMfRDvbH1X2p3BPYr22ocBM",
      "include_colab_link": true
    },
    "kernelspec": {
      "display_name": "Python 3",
      "name": "python3"
    },
    "language_info": {
      "name": "python"
    }
  },
  "nbformat": 4,
  "nbformat_minor": 0
}
